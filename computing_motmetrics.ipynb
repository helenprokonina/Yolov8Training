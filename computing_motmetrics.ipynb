{
 "cells": [
  {
   "cell_type": "markdown",
   "source": [
    "### MOT metrics"
   ],
   "metadata": {
    "collapsed": false
   }
  },
  {
   "cell_type": "code",
   "execution_count": 2,
   "outputs": [
    {
     "name": "stdout",
     "output_type": "stream",
     "text": [
      "Requirement already satisfied: motmetrics in /home/terminator/.local/lib/python3.8/site-packages (1.4.0)\r\n",
      "Requirement already satisfied: scipy>=0.19.0 in /home/terminator/.local/lib/python3.8/site-packages (from motmetrics) (1.10.1)\r\n",
      "Requirement already satisfied: numpy>=1.12.1 in /home/terminator/.local/lib/python3.8/site-packages (from motmetrics) (1.23.5)\r\n",
      "Requirement already satisfied: xmltodict>=0.12.0 in /home/terminator/.local/lib/python3.8/site-packages (from motmetrics) (0.13.0)\r\n",
      "Requirement already satisfied: pandas>=0.23.1 in /home/terminator/.local/lib/python3.8/site-packages (from motmetrics) (1.5.3)\r\n",
      "Requirement already satisfied: pytz>=2020.1 in /home/terminator/.local/lib/python3.8/site-packages (from pandas>=0.23.1->motmetrics) (2022.7.1)\r\n",
      "Requirement already satisfied: python-dateutil>=2.8.1 in /home/terminator/.local/lib/python3.8/site-packages (from pandas>=0.23.1->motmetrics) (2.8.2)\r\n",
      "Requirement already satisfied: six>=1.5 in /usr/lib/python3/dist-packages (from python-dateutil>=2.8.1->pandas>=0.23.1->motmetrics) (1.14.0)\r\n"
     ]
    }
   ],
   "source": [
    "!pip install motmetrics"
   ],
   "metadata": {
    "collapsed": false,
    "ExecuteTime": {
     "end_time": "2023-08-27T11:20:52.320944300Z",
     "start_time": "2023-08-27T11:20:49.896026300Z"
    }
   }
  },
  {
   "cell_type": "code",
   "execution_count": 2,
   "outputs": [],
   "source": [
    "import numpy as np\n",
    "import glob\n",
    "import os\n",
    "import pandas as pd\n",
    "import logging\n",
    "from collections import OrderedDict\n",
    "from pathlib import Path\n",
    "import motmetrics as mm"
   ],
   "metadata": {
    "collapsed": false,
    "ExecuteTime": {
     "end_time": "2023-08-27T11:22:40.605902800Z",
     "start_time": "2023-08-27T11:22:40.378734700Z"
    }
   }
  },
  {
   "cell_type": "code",
   "execution_count": 3,
   "outputs": [
    {
     "name": "stdout",
     "output_type": "stream",
     "text": [
      "Name|Description\n",
      ":---|:---\n",
      "num_frames|Total number of frames.\n",
      "obj_frequencies|Total number of occurrences of individual objects over all frames.\n",
      "pred_frequencies|Total number of occurrences of individual predictions over all frames.\n",
      "num_matches|Total number matches.\n",
      "num_switches|Total number of track switches.\n",
      "num_transfer|Total number of track transfer.\n",
      "num_ascend|Total number of track ascend.\n",
      "num_migrate|Total number of track migrate.\n",
      "num_false_positives|Total number of false positives (false-alarms).\n",
      "num_misses|Total number of misses.\n",
      "num_detections|Total number of detected objects including matches and switches.\n",
      "num_objects|Total number of unique object appearances over all frames.\n",
      "num_predictions|Total number of unique prediction appearances over all frames.\n",
      "num_unique_objects|Total number of unique object ids encountered.\n",
      "track_ratios|Ratio of assigned to total appearance count per unique object id.\n",
      "mostly_tracked|Number of objects tracked for at least 80 percent of lifespan.\n",
      "partially_tracked|Number of objects tracked between 20 and 80 percent of lifespan.\n",
      "mostly_lost|Number of objects tracked less than 20 percent of lifespan.\n",
      "num_fragmentations|Total number of switches from tracked to not tracked.\n",
      "motp|Multiple object tracker precision.\n",
      "mota|Multiple object tracker accuracy.\n",
      "precision|Number of detected objects over sum of detected and false positives.\n",
      "recall|Number of detections over number of objects.\n",
      "id_global_assignment|ID measures: Global min-cost assignment for ID measures.\n",
      "idfp|ID measures: Number of false positive matches after global min-cost matching.\n",
      "idfn|ID measures: Number of false negatives matches after global min-cost matching.\n",
      "idtp|ID measures: Number of true positives matches after global min-cost matching.\n",
      "idp|ID measures: global min-cost precision.\n",
      "idr|ID measures: global min-cost recall.\n",
      "idf1|ID measures: global min-cost F1 score.\n",
      "\n"
     ]
    }
   ],
   "source": [
    "# List all default metrics\n",
    "mh = mm.metrics.create()\n",
    "print(mh.list_metrics_markdown())"
   ],
   "metadata": {
    "collapsed": false,
    "ExecuteTime": {
     "end_time": "2023-08-27T11:22:41.568356200Z",
     "start_time": "2023-08-27T11:22:41.557353500Z"
    }
   }
  },
  {
   "cell_type": "markdown",
   "source": [
    "### Evaluate MOT metrics"
   ],
   "metadata": {
    "collapsed": false
   }
  },
  {
   "cell_type": "markdown",
   "source": [
    "Functions to compute motchallenge metrics"
   ],
   "metadata": {
    "collapsed": false
   }
  },
  {
   "cell_type": "code",
   "execution_count": 4,
   "outputs": [],
   "source": [
    "def compare_dataframes(gts, ts):\n",
    "    accs = []\n",
    "    names = []\n",
    "    for k, tsacc in ts.items():\n",
    "        if k in gts:\n",
    "            logging.info('Comparing {}...'.format(k))\n",
    "            accs.append(mm.utils.compare_to_groundtruth(gts[k], tsacc, 'iou', distth=0.5))\n",
    "            names.append(k)\n",
    "        else:\n",
    "            logging.warning('No ground truth for {}, skipping.'.format(k))\n",
    "\n",
    "    return accs, names\n",
    "\n",
    "\n",
    "def compute_motmetrics(groundtruths, tests, score_threshold, fmt='mot15-2D'):\n",
    "\n",
    "    gtfiles = glob.glob(os.path.join(groundtruths, '*/gt/gt.txt'))\n",
    "    print('gt_files', gtfiles)\n",
    "    tsfiles = [f for f in glob.glob(os.path.join(tests, '*.txt')) if not os.path.basename(f).startswith('eval')]\n",
    "\n",
    "    print('Found {} groundtruths and {} test files.'.format(len(gtfiles), len(tsfiles)))\n",
    "    print('Available LAP solvers {}'.format(mm.lap.available_solvers))\n",
    "    print('Default LAP solver \\'{}\\''.format(mm.lap.default_solver))\n",
    "    print('Loading files.')\n",
    "\n",
    "    gt = OrderedDict([(Path(f).parts[-3], mm.io.loadtxt(f, fmt=fmt, min_confidence=1)) for f in gtfiles])\n",
    "    ts = OrderedDict(\n",
    "        [(os.path.splitext(Path(f).parts[-1])[0], mm.io.loadtxt(f, fmt=fmt, min_confidence=score_threshold))\n",
    "         for f in tsfiles])\n",
    "    #     ts = gt\n",
    "    mh = mm.metrics.create()\n",
    "    accs, names = compare_dataframes(gt, ts)\n",
    "\n",
    "    logging.info('Running metrics')\n",
    "    metrics = ['recall', 'precision', 'num_unique_objects', 'mostly_tracked',\n",
    "               'partially_tracked', 'mostly_lost', 'num_false_positives', 'num_misses',\n",
    "               'num_switches', 'num_fragmentations', 'mota', 'motp', 'idf1', 'num_objects']\n",
    "    summary = mh.compute_many(accs, names=names, metrics=metrics, generate_overall=True)\n",
    "    div_dict = {\n",
    "        'num_objects': ['num_false_positives', 'num_misses', 'num_switches', 'num_fragmentations'],\n",
    "        'num_unique_objects': ['mostly_tracked', 'partially_tracked', 'mostly_lost']}\n",
    "    for divisor in div_dict:\n",
    "        for divided in div_dict[divisor]:\n",
    "            summary[divided] = (summary[divided] / summary[divisor])\n",
    "    fmt = mh.formatters\n",
    "    change_fmt_list = ['num_false_positives', 'num_misses', 'num_switches', 'num_fragmentations', 'mostly_tracked',\n",
    "                       'partially_tracked', 'mostly_lost']\n",
    "    for k in change_fmt_list:\n",
    "        fmt[k] = fmt['mota']\n",
    "    print(mm.io.render_summary(summary, formatters=fmt, namemap=mm.io.motchallenge_metric_names))\n"
   ],
   "metadata": {
    "collapsed": false,
    "ExecuteTime": {
     "end_time": "2023-08-27T11:22:48.968791700Z",
     "start_time": "2023-08-27T11:22:48.962788500Z"
    }
   }
  },
  {
   "cell_type": "markdown",
   "source": [
    "### Calculate metrics for DeepSort MOT20"
   ],
   "metadata": {
    "collapsed": false
   }
  },
  {
   "cell_type": "markdown",
   "source": [
    "GT - directory with ground truth sequences.\n",
    "DeepSort_predictions - directory with DeepSort predictions (*.txt files)"
   ],
   "metadata": {
    "collapsed": false
   }
  },
  {
   "cell_type": "code",
   "execution_count": 5,
   "outputs": [
    {
     "name": "stdout",
     "output_type": "stream",
     "text": [
      "gt_files ['GT/MOT20-03/gt/gt.txt', 'GT/MOT20-02/gt/gt.txt', 'GT/MOT20-05/gt/gt.txt', 'GT/MOT20-01/gt/gt.txt']\n",
      "Found 4 groundtruths and 5 test files.\n",
      "Available LAP solvers ['scipy']\n",
      "Default LAP solver 'scipy'\n",
      "Loading files.\n",
      "OrderedDict([('MOT20-03',                 X    Y  Width  Height  Confidence  ClassId  Visibility\n",
      "FrameId Id                                                            \n",
      "695     1    1126  816     45      62           1        1     1.00000\n",
      "696     1    1123  814     47      64           1        1     1.00000\n",
      "697     1    1121  812     48      66           1        1     1.00000\n",
      "698     1    1119  810     49      68           1        1     1.00000\n",
      "699     1    1117  808     50      70           1        1     1.00000\n",
      "...           ...  ...    ...     ...         ...      ...         ...\n",
      "2144    733   338    0     37      18           1        1     0.74792\n",
      "2145    733   338    0     37      16           1        1     0.72136\n",
      "2146    733   338    0     37      14           1        1     0.71579\n",
      "2147    733   338    0     37      12           1        1     0.69028\n",
      "2148    733   338    0     37      10           1        1     0.69617\n",
      "\n",
      "[313658 rows x 7 columns]), ('MOT20-02',                 X    Y  Width  Height  Confidence  ClassId  Visibility\n",
      "FrameId Id                                                            \n",
      "722     1     546  251     68     145           1        1    0.092317\n",
      "723     1     547  251     68     145           1        1    0.092317\n",
      "724     1     549  251     68     145           1        1    0.089339\n",
      "725     1     551  251     68     145           1        1    0.089339\n",
      "726     1     553  251     68     145           1        1    0.086361\n",
      "...           ...  ...    ...     ...         ...      ...         ...\n",
      "1000    295  1777  483    113     211           1        1    0.000000\n",
      "1001    295  1784  483    112     211           1        1    0.000000\n",
      "1002    295  1791  482    110     211           1        1    0.000000\n",
      "1003    295  1798  482    109     211           1        1    0.000000\n",
      "1004    295  1805  482    107     211           1        1    0.000000\n",
      "\n",
      "[154742 rows x 7 columns]), ('MOT20-05',                 X    Y  Width  Height  Confidence  ClassId  Visibility\n",
      "FrameId Id                                                            \n",
      "1031    1       0  139      5     149           1        1     0.68667\n",
      "1032    1       0  138      7     149           1        1     0.68667\n",
      "1033    1       0  137      9     149           1        1     0.68667\n",
      "1034    1       0  135     11     149           1        1     0.69333\n",
      "1035    1       0  134     13     149           1        1     0.69333\n",
      "...           ...  ...    ...     ...         ...      ...         ...\n",
      "1444    1211  600    0     55      53           1        1     0.92857\n",
      "1445    1211  602    0     55      51           1        1     0.92857\n",
      "1446    1211  603    0     55      49           1        1     0.92857\n",
      "1447    1211  605    0     55      47           1        1     0.91071\n",
      "1448    1211  606    0     55      45           1        1     0.91071\n",
      "\n",
      "[646344 rows x 7 columns]), ('MOT20-01',                X    Y  Width  Height  Confidence  ClassId  Visibility\n",
      "FrameId Id                                                           \n",
      "1       1    198  812    140     268           1        1    0.836430\n",
      "2       1    200  811    140     268           1        1    0.840150\n",
      "3       1    202  811    140     268           1        1    0.840150\n",
      "4       1    205  811    140     268           1        1    0.840150\n",
      "5       1    207  811    140     268           1        1    0.840150\n",
      "...          ...  ...    ...     ...         ...      ...         ...\n",
      "425     78  1487  431     52      89           1        1    0.015094\n",
      "426     78  1488  431     52      89           1        1    0.007547\n",
      "427     78  1488  431     52      89           1        1    0.001677\n",
      "428     78  1489  431     52      89           1        1    0.011111\n",
      "429     78  1490  432     52      89           1        1    0.055556\n",
      "\n",
      "[19870 rows x 7 columns])])\n",
      "OrderedDict([('MOT20-01',                     X       Y    Width   Height  Confidence  ClassId  \\\n",
      "FrameId Id                                                             \n",
      "1       1      760.00  690.00   851.00   894.00           1       -1   \n",
      "        1      760.00  690.00   851.00   894.00           1       -1   \n",
      "        2      195.00  815.00   309.00  1079.00           1       -1   \n",
      "        1      760.00  690.00   851.00   894.00           1       -1   \n",
      "        2      195.00  815.00   309.00  1079.00           1       -1   \n",
      "...               ...     ...      ...      ...         ...      ...   \n",
      "429     1893  1623.01  624.96  1690.11   861.95           1       -1   \n",
      "        1897   758.42  614.00   845.54   781.03           1       -1   \n",
      "        1899  1212.85  237.98  1231.10   255.00           1       -1   \n",
      "        1100   612.96  747.00   700.05   950.99           1       -1   \n",
      "        1447    90.87  957.02   200.10  1079.00           1       -1   \n",
      "\n",
      "              Visibility  \n",
      "FrameId Id                \n",
      "1       1             -1  \n",
      "        1             -1  \n",
      "        2             -1  \n",
      "        1             -1  \n",
      "        2             -1  \n",
      "...                  ...  \n",
      "429     1893          -1  \n",
      "        1897          -1  \n",
      "        1899          -1  \n",
      "        1100          -1  \n",
      "        1447          -1  \n",
      "\n",
      "[320208 rows x 7 columns]), ('MOT20-03',                     X       Y    Width  Height  Confidence  ClassId  \\\n",
      "FrameId Id                                                            \n",
      "3       1      933.98  562.20   990.45  699.53           1       -1   \n",
      "        2      832.94  782.40   892.06  876.23           1       -1   \n",
      "        3      744.62  553.76   792.45  687.22           1       -1   \n",
      "        4      555.42  267.20   598.77  364.98           1       -1   \n",
      "        5      242.18  298.72   285.04  402.00           1       -1   \n",
      "...               ...     ...      ...     ...         ...      ...   \n",
      "2405    2091    63.11  378.40    93.18  465.32           1       -1   \n",
      "        2115  1046.12  411.50  1096.72  537.94           1       -1   \n",
      "        2117   485.34  722.87   538.32  847.48           1       -1   \n",
      "        2121    42.90  140.77    78.50  222.41           1       -1   \n",
      "        2134   686.10  383.17   739.59  476.84           1       -1   \n",
      "\n",
      "              Visibility  \n",
      "FrameId Id                \n",
      "3       1             -1  \n",
      "        2             -1  \n",
      "        3             -1  \n",
      "        4             -1  \n",
      "        5             -1  \n",
      "...                  ...  \n",
      "2405    2091          -1  \n",
      "        2115          -1  \n",
      "        2117          -1  \n",
      "        2121          -1  \n",
      "        2134          -1  \n",
      "\n",
      "[138135 rows x 7 columns]), ('MOT20-07',                    X      Y   Width  Height  Confidence  ClassId  Visibility\n",
      "FrameId Id                                                                  \n",
      "1       1     1639.0  674.0  1761.0   974.0           1       -1          -1\n",
      "        1     1639.0  674.0  1761.0   974.0           1       -1          -1\n",
      "        2      813.0  959.0   937.0  1078.0           1       -1          -1\n",
      "        1     1639.0  674.0  1761.0   974.0           1       -1          -1\n",
      "        2      813.0  959.0   937.0  1078.0           1       -1          -1\n",
      "...              ...    ...     ...     ...         ...      ...         ...\n",
      "585     7252  1582.0  819.0  1690.0  1077.0           1       -1          -1\n",
      "        7253  1198.0  286.0  1280.0   353.0           1       -1          -1\n",
      "        7254   896.0  480.0   964.0   590.0           1       -1          -1\n",
      "        7255  1369.0  493.0  1422.0   585.0           1       -1          -1\n",
      "        7256  1314.0  837.0  1376.0   939.0           1       -1          -1\n",
      "\n",
      "[647721 rows x 7 columns]), ('MOT20-04',                     X       Y    Width   Height  Confidence  ClassId  \\\n",
      "FrameId Id                                                             \n",
      "3       1      350.64  956.87   459.17  1080.00           1       -1   \n",
      "        2     1015.86  250.09  1090.50   417.98           1       -1   \n",
      "        3      377.59  140.64   441.13   280.20           1       -1   \n",
      "        4      295.72  218.45   347.65   371.26           1       -1   \n",
      "        5      637.26  368.79   701.49   533.08           1       -1   \n",
      "...               ...     ...      ...      ...         ...      ...   \n",
      "2080    2608  1243.79  244.92  1288.65   364.47           1       -1   \n",
      "        2619  1219.52  902.01  1299.16  1071.02           1       -1   \n",
      "        2624  1263.65  579.51  1332.97   759.81           1       -1   \n",
      "        2626  1105.99  451.24  1180.46   608.42           1       -1   \n",
      "        2636   624.36   70.07   681.46   196.17           1       -1   \n",
      "\n",
      "              Visibility  \n",
      "FrameId Id                \n",
      "3       1             -1  \n",
      "        2             -1  \n",
      "        3             -1  \n",
      "        4             -1  \n",
      "        5             -1  \n",
      "...                  ...  \n",
      "2080    2608          -1  \n",
      "        2619          -1  \n",
      "        2624          -1  \n",
      "        2626          -1  \n",
      "        2636          -1  \n",
      "\n",
      "[83694 rows x 7 columns]), ('MOT20-02',                     X       Y    Width   Height  Confidence  ClassId  \\\n",
      "FrameId Id                                                             \n",
      "3       1       55.86  716.78   201.77  1080.00           1       -1   \n",
      "        2      720.07  502.77   883.89   825.97           1       -1   \n",
      "        3      488.72  142.41   556.64   332.22           1       -1   \n",
      "        4     1437.00  226.75  1514.45   406.57           1       -1   \n",
      "        5      275.21  429.16   386.78   746.98           1       -1   \n",
      "...               ...     ...      ...      ...         ...      ...   \n",
      "2782    1959   983.34  314.03  1053.39   539.57           1       -1   \n",
      "        1967  1339.81  500.07  1410.09   666.86           1       -1   \n",
      "        1988   608.24  204.29   657.70   324.42           1       -1   \n",
      "        1999   322.05  607.93   434.39   794.94           1       -1   \n",
      "        2009   963.21  284.22  1013.81   423.46           1       -1   \n",
      "\n",
      "              Visibility  \n",
      "FrameId Id                \n",
      "3       1             -1  \n",
      "        2             -1  \n",
      "        3             -1  \n",
      "        4             -1  \n",
      "        5             -1  \n",
      "...                  ...  \n",
      "2782    1959          -1  \n",
      "        1967          -1  \n",
      "        1988          -1  \n",
      "        1999          -1  \n",
      "        2009          -1  \n",
      "\n",
      "[75441 rows x 7 columns])])\n"
     ]
    },
    {
     "name": "stderr",
     "output_type": "stream",
     "text": [
      "WARNING:root:No ground truth for MOT20-07, skipping.\n",
      "WARNING:root:No ground truth for MOT20-04, skipping.\n"
     ]
    },
    {
     "name": "stdout",
     "output_type": "stream",
     "text": [
      "         Rcll Prcn   GT   MT   PT     ML      FP     FN  IDs   FM     MOTA  MOTP IDF1 num_objects\n",
      "MOT20-01 0.0% 0.0%   74 0.0% 0.0% 100.0% 1611.5% 100.0% 0.0% 0.0% -1611.5%   NaN 0.0%       19870\n",
      "MOT20-03 0.0% 0.1%  702 0.0% 0.0% 100.0%   44.0% 100.0% 0.0% 0.0%   -44.0% 0.429 0.0%      313658\n",
      "MOT20-02 0.0% 0.0%  270 0.0% 0.0% 100.0%   48.8% 100.0% 0.0% 0.0%   -48.8%   NaN 0.0%      154742\n",
      "OVERALL  0.0% 0.0% 1046 0.0% 0.0% 100.0%  109.3% 100.0% 0.0% 0.0%  -109.3%   NaN 0.0%      488270\n"
     ]
    }
   ],
   "source": [
    "compute_motmetrics(groundtruths=\"GT\", tests=\"results\", score_threshold=0.8, fmt='mot15-2D')"
   ],
   "metadata": {
    "collapsed": false,
    "ExecuteTime": {
     "end_time": "2023-08-27T11:23:43.726395Z",
     "start_time": "2023-08-27T11:22:52.254110100Z"
    }
   }
  },
  {
   "cell_type": "code",
   "execution_count": null,
   "outputs": [],
   "source": [],
   "metadata": {
    "collapsed": false
   }
  }
 ],
 "metadata": {
  "kernelspec": {
   "display_name": "Python 3",
   "language": "python",
   "name": "python3"
  },
  "language_info": {
   "codemirror_mode": {
    "name": "ipython",
    "version": 2
   },
   "file_extension": ".py",
   "mimetype": "text/x-python",
   "name": "python",
   "nbconvert_exporter": "python",
   "pygments_lexer": "ipython2",
   "version": "2.7.6"
  }
 },
 "nbformat": 4,
 "nbformat_minor": 0
}
