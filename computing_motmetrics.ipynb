{
 "cells": [
  {
   "cell_type": "markdown",
   "source": [
    "### MOT metrics"
   ],
   "metadata": {
    "collapsed": false
   }
  },
  {
   "cell_type": "code",
   "execution_count": 2,
   "outputs": [
    {
     "name": "stdout",
     "output_type": "stream",
     "text": [
      "Requirement already satisfied: motmetrics in /home/terminator/.local/lib/python3.8/site-packages (1.4.0)\r\n",
      "Requirement already satisfied: scipy>=0.19.0 in /home/terminator/.local/lib/python3.8/site-packages (from motmetrics) (1.10.1)\r\n",
      "Requirement already satisfied: numpy>=1.12.1 in /home/terminator/.local/lib/python3.8/site-packages (from motmetrics) (1.23.5)\r\n",
      "Requirement already satisfied: xmltodict>=0.12.0 in /home/terminator/.local/lib/python3.8/site-packages (from motmetrics) (0.13.0)\r\n",
      "Requirement already satisfied: pandas>=0.23.1 in /home/terminator/.local/lib/python3.8/site-packages (from motmetrics) (1.5.3)\r\n",
      "Requirement already satisfied: pytz>=2020.1 in /home/terminator/.local/lib/python3.8/site-packages (from pandas>=0.23.1->motmetrics) (2022.7.1)\r\n",
      "Requirement already satisfied: python-dateutil>=2.8.1 in /home/terminator/.local/lib/python3.8/site-packages (from pandas>=0.23.1->motmetrics) (2.8.2)\r\n",
      "Requirement already satisfied: six>=1.5 in /usr/lib/python3/dist-packages (from python-dateutil>=2.8.1->pandas>=0.23.1->motmetrics) (1.14.0)\r\n"
     ]
    }
   ],
   "source": [
    "!pip install motmetrics"
   ],
   "metadata": {
    "collapsed": false,
    "ExecuteTime": {
     "end_time": "2023-08-27T11:20:52.320944300Z",
     "start_time": "2023-08-27T11:20:49.896026300Z"
    }
   }
  },
  {
   "cell_type": "code",
   "execution_count": 1,
   "outputs": [],
   "source": [
    "import numpy as np\n",
    "import glob\n",
    "import os\n",
    "import pandas as pd\n",
    "import logging\n",
    "from collections import OrderedDict\n",
    "from pathlib import Path\n",
    "import motmetrics as mm"
   ],
   "metadata": {
    "collapsed": false,
    "ExecuteTime": {
     "end_time": "2023-08-28T16:37:11.072066100Z",
     "start_time": "2023-08-28T16:37:10.605947500Z"
    }
   }
  },
  {
   "cell_type": "code",
   "execution_count": 2,
   "outputs": [
    {
     "name": "stdout",
     "output_type": "stream",
     "text": [
      "Name|Description\n",
      ":---|:---\n",
      "num_frames|Total number of frames.\n",
      "obj_frequencies|Total number of occurrences of individual objects over all frames.\n",
      "pred_frequencies|Total number of occurrences of individual predictions over all frames.\n",
      "num_matches|Total number matches.\n",
      "num_switches|Total number of track switches.\n",
      "num_transfer|Total number of track transfer.\n",
      "num_ascend|Total number of track ascend.\n",
      "num_migrate|Total number of track migrate.\n",
      "num_false_positives|Total number of false positives (false-alarms).\n",
      "num_misses|Total number of misses.\n",
      "num_detections|Total number of detected objects including matches and switches.\n",
      "num_objects|Total number of unique object appearances over all frames.\n",
      "num_predictions|Total number of unique prediction appearances over all frames.\n",
      "num_unique_objects|Total number of unique object ids encountered.\n",
      "track_ratios|Ratio of assigned to total appearance count per unique object id.\n",
      "mostly_tracked|Number of objects tracked for at least 80 percent of lifespan.\n",
      "partially_tracked|Number of objects tracked between 20 and 80 percent of lifespan.\n",
      "mostly_lost|Number of objects tracked less than 20 percent of lifespan.\n",
      "num_fragmentations|Total number of switches from tracked to not tracked.\n",
      "motp|Multiple object tracker precision.\n",
      "mota|Multiple object tracker accuracy.\n",
      "precision|Number of detected objects over sum of detected and false positives.\n",
      "recall|Number of detections over number of objects.\n",
      "id_global_assignment|ID measures: Global min-cost assignment for ID measures.\n",
      "idfp|ID measures: Number of false positive matches after global min-cost matching.\n",
      "idfn|ID measures: Number of false negatives matches after global min-cost matching.\n",
      "idtp|ID measures: Number of true positives matches after global min-cost matching.\n",
      "idp|ID measures: global min-cost precision.\n",
      "idr|ID measures: global min-cost recall.\n",
      "idf1|ID measures: global min-cost F1 score.\n",
      "\n"
     ]
    }
   ],
   "source": [
    "# List all default metrics\n",
    "mh = mm.metrics.create()\n",
    "print(mh.list_metrics_markdown())"
   ],
   "metadata": {
    "collapsed": false,
    "ExecuteTime": {
     "end_time": "2023-08-28T16:37:11.981531900Z",
     "start_time": "2023-08-28T16:37:11.975529500Z"
    }
   }
  },
  {
   "cell_type": "markdown",
   "source": [
    "### Evaluate MOT metrics"
   ],
   "metadata": {
    "collapsed": false
   }
  },
  {
   "cell_type": "markdown",
   "source": [
    "Functions to compute motchallenge metrics"
   ],
   "metadata": {
    "collapsed": false
   }
  },
  {
   "cell_type": "code",
   "execution_count": 3,
   "outputs": [],
   "source": [
    "def compare_dataframes(gts, ts):\n",
    "    accs = []\n",
    "    names = []\n",
    "    for k, tsacc in ts.items():\n",
    "        if k in gts:\n",
    "            logging.info('Comparing {}...'.format(k))\n",
    "            accs.append(mm.utils.compare_to_groundtruth(gts[k], tsacc, 'iou', distth=0.5))\n",
    "            names.append(k)\n",
    "        else:\n",
    "            logging.warning('No ground truth for {}, skipping.'.format(k))\n",
    "\n",
    "    return accs, names\n",
    "\n",
    "\n",
    "def compute_motmetrics(groundtruths, tests, score_threshold, fmt='mot15-2D'):\n",
    "\n",
    "    gtfiles = glob.glob(os.path.join(groundtruths, '*/gt/gt.txt'))\n",
    "    print('gt_files', gtfiles)\n",
    "    tsfiles = [f for f in glob.glob(os.path.join(tests, '*.txt')) if not os.path.basename(f).startswith('eval')]\n",
    "\n",
    "    print('Found {} groundtruths and {} test files.'.format(len(gtfiles), len(tsfiles)))\n",
    "    print('Available LAP solvers {}'.format(mm.lap.available_solvers))\n",
    "    print('Default LAP solver \\'{}\\''.format(mm.lap.default_solver))\n",
    "    print('Loading files.')\n",
    "\n",
    "    gt = OrderedDict([(Path(f).parts[-3], mm.io.loadtxt(f, fmt=fmt, min_confidence=1)) for f in gtfiles])\n",
    "    ts = OrderedDict(\n",
    "        [(os.path.splitext(Path(f).parts[-1])[0], mm.io.loadtxt(f, fmt=fmt, min_confidence=score_threshold))\n",
    "         for f in tsfiles])\n",
    "    #     ts = gt\n",
    "    mh = mm.metrics.create()\n",
    "    accs, names = compare_dataframes(gt, ts)\n",
    "\n",
    "    logging.info('Running metrics')\n",
    "    metrics = ['recall', 'precision', 'num_unique_objects', 'mostly_tracked',\n",
    "               'partially_tracked', 'mostly_lost', 'num_false_positives', 'num_misses',\n",
    "               'num_switches', 'num_fragmentations', 'mota', 'motp', 'idf1', 'num_objects']\n",
    "    summary = mh.compute_many(accs, names=names, metrics=metrics, generate_overall=True)\n",
    "    print(summary)\n",
    "    div_dict = {\n",
    "        'num_objects': ['num_false_positives', 'num_misses', 'num_switches', 'num_fragmentations'],\n",
    "        'num_unique_objects': ['mostly_tracked', 'partially_tracked', 'mostly_lost']}\n",
    "    for divisor in div_dict:\n",
    "        for divided in div_dict[divisor]:\n",
    "            summary[divided] = (summary[divided] / summary[divisor])\n",
    "    fmt = mh.formatters\n",
    "    change_fmt_list = ['num_false_positives', 'num_misses', 'num_switches', 'num_fragmentations', 'mostly_tracked',\n",
    "                       'partially_tracked', 'mostly_lost']\n",
    "    for k in change_fmt_list:\n",
    "        fmt[k] = fmt['mota']\n",
    "    print(mm.io.render_summary(summary, formatters=fmt, namemap=mm.io.motchallenge_metric_names))\n"
   ],
   "metadata": {
    "collapsed": false,
    "ExecuteTime": {
     "end_time": "2023-08-28T16:37:14.649217900Z",
     "start_time": "2023-08-28T16:37:14.622198400Z"
    }
   }
  },
  {
   "cell_type": "markdown",
   "source": [
    "### Calculate metrics for DeepSort MOT20"
   ],
   "metadata": {
    "collapsed": false
   }
  },
  {
   "cell_type": "markdown",
   "source": [
    "GT - directory with ground truth sequences.\n",
    "DeepSort_predictions - directory with DeepSort predictions (*.txt files)"
   ],
   "metadata": {
    "collapsed": false
   }
  },
  {
   "cell_type": "code",
   "execution_count": 5,
   "outputs": [
    {
     "name": "stdout",
     "output_type": "stream",
     "text": [
      "gt_files ['GT/MOT20-03/gt/gt.txt', 'GT/MOT20-02/gt/gt.txt', 'GT/MOT20-05/gt/gt.txt', 'GT/MOT20-01/gt/gt.txt']\n",
      "Found 4 groundtruths and 6 test files.\n",
      "Available LAP solvers ['scipy']\n",
      "Default LAP solver 'scipy'\n",
      "Loading files.\n"
     ]
    },
    {
     "name": "stderr",
     "output_type": "stream",
     "text": [
      "WARNING:root:No ground truth for MOT20-07, skipping.\n",
      "WARNING:root:No ground truth for cut, skipping.\n",
      "WARNING:root:No ground truth for MOT20-04, skipping.\n"
     ]
    },
    {
     "name": "stdout",
     "output_type": "stream",
     "text": [
      "            recall  precision  num_unique_objects  mostly_tracked  \\\n",
      "MOT20-01  0.510166   0.829542                  74              19   \n",
      "MOT20-03  0.374035   0.879057                 702              43   \n",
      "MOT20-02  0.484594   0.826722                 270              55   \n",
      "OVERALL   0.414613   0.856416                1046             117   \n",
      "\n",
      "          partially_tracked  mostly_lost  num_false_positives  num_misses  \\\n",
      "MOT20-01                 39           16                 2083        9733   \n",
      "MOT20-03                410          249                16141      196339   \n",
      "MOT20-02                173           42                15717       79755   \n",
      "OVERALL                 622          307                33941      285827   \n",
      "\n",
      "          num_switches  num_fragmentations      mota      motp      idf1  \\\n",
      "MOT20-01           258                 454  0.392350  0.239370  0.401060   \n",
      "MOT20-03          1391                6283  0.318140  0.305589  0.379497   \n",
      "MOT20-02          1543                2840  0.373053  0.237700  0.334143   \n",
      "OVERALL           3192                9577  0.338563  0.277127  0.365090   \n",
      "\n",
      "          num_objects  \n",
      "MOT20-01        19870  \n",
      "MOT20-03       313658  \n",
      "MOT20-02       154742  \n",
      "OVERALL        488270  \n",
      "          Rcll  Prcn   GT    MT    PT    ML    FP    FN  IDs   FM  MOTA  MOTP  IDF1 num_objects\n",
      "MOT20-01 51.0% 83.0%   74 25.7% 52.7% 21.6% 10.5% 49.0% 1.3% 2.3% 39.2% 0.239 40.1%       19870\n",
      "MOT20-03 37.4% 87.9%  702  6.1% 58.4% 35.5%  5.1% 62.6% 0.4% 2.0% 31.8% 0.306 37.9%      313658\n",
      "MOT20-02 48.5% 82.7%  270 20.4% 64.1% 15.6% 10.2% 51.5% 1.0% 1.8% 37.3% 0.238 33.4%      154742\n",
      "OVERALL  41.5% 85.6% 1046 11.2% 59.5% 29.3%  7.0% 58.5% 0.7% 2.0% 33.9% 0.277 36.5%      488270\n"
     ]
    }
   ],
   "source": [
    "compute_motmetrics(groundtruths=\"GT\", tests=\"results\", score_threshold=0.8, fmt='mot15-2D')"
   ],
   "metadata": {
    "collapsed": false,
    "ExecuteTime": {
     "end_time": "2023-08-29T07:09:36.997666900Z",
     "start_time": "2023-08-29T07:08:54.167277400Z"
    }
   }
  },
  {
   "cell_type": "code",
   "execution_count": null,
   "outputs": [],
   "source": [],
   "metadata": {
    "collapsed": false
   }
  }
 ],
 "metadata": {
  "kernelspec": {
   "display_name": "Python 3",
   "language": "python",
   "name": "python3"
  },
  "language_info": {
   "codemirror_mode": {
    "name": "ipython",
    "version": 2
   },
   "file_extension": ".py",
   "mimetype": "text/x-python",
   "name": "python",
   "nbconvert_exporter": "python",
   "pygments_lexer": "ipython2",
   "version": "2.7.6"
  }
 },
 "nbformat": 4,
 "nbformat_minor": 0
}
