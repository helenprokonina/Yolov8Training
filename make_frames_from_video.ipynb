{
 "cells": [
  {
   "cell_type": "code",
   "execution_count": 18,
   "outputs": [],
   "source": [
    "import os\n",
    "import cv2\n",
    "import shutil\n",
    "import pandas as pd\n",
    "import glob\n",
    "from matplotlib import pyplot as plt"
   ],
   "metadata": {
    "collapsed": false,
    "ExecuteTime": {
     "end_time": "2023-08-23T09:54:02.838447600Z",
     "start_time": "2023-08-23T09:54:01.941830Z"
    }
   }
  },
  {
   "cell_type": "markdown",
   "source": [
    "## Videos from youtube"
   ],
   "metadata": {
    "collapsed": false
   }
  },
  {
   "cell_type": "markdown",
   "source": [
    "### Function for making frames from video"
   ],
   "metadata": {
    "collapsed": false
   }
  },
  {
   "cell_type": "code",
   "execution_count": 40,
   "outputs": [],
   "source": [
    "def make_frames_from_video(file_name, output_dir):\n",
    "\n",
    "    VIDEOS_DIR = os.path.join('.', 'videos')\n",
    "\n",
    "    video_path = os.path.join(VIDEOS_DIR, file_name)\n",
    "\n",
    "\n",
    "    cap = cv2.VideoCapture(video_path)\n",
    "    ret, frame = cap.read()\n",
    "    frame_ind=0\n",
    "    while ret:\n",
    "        frame_ind+=1\n",
    "        cv2.imwrite(f\"{output_dir}/{output_dir}_{frame_ind}.jpg\", frame)\n",
    "        ret, frame = cap.read()\n",
    "\n",
    "\n",
    "    cap.release()\n",
    "    cv2.destroyAllWindows()"
   ],
   "metadata": {
    "collapsed": false,
    "ExecuteTime": {
     "end_time": "2023-08-23T13:09:59.102452800Z",
     "start_time": "2023-08-23T13:09:59.093778200Z"
    }
   }
  },
  {
   "cell_type": "markdown",
   "source": [
    "### Make frames from video people.mp4"
   ],
   "metadata": {
    "collapsed": false
   }
  },
  {
   "cell_type": "code",
   "execution_count": 41,
   "outputs": [],
   "source": [
    "#make frames from people.mp4 video\n",
    "make_frames_from_video(file_name=\"people.mp4\", output_dir=\"people_frames\")"
   ],
   "metadata": {
    "collapsed": false,
    "ExecuteTime": {
     "end_time": "2023-08-23T13:10:04.899764900Z",
     "start_time": "2023-08-23T13:10:01.727430100Z"
    }
   }
  },
  {
   "cell_type": "markdown",
   "source": [
    "### Make frames from video people_from_above.mp4"
   ],
   "metadata": {
    "collapsed": false
   }
  },
  {
   "cell_type": "code",
   "execution_count": 42,
   "outputs": [],
   "source": [
    "#make frames from people_from_above.mp4 video\n",
    "make_frames_from_video(file_name=\"people_from_above.mp4\", output_dir=\"people_from_above_frames\")"
   ],
   "metadata": {
    "collapsed": false,
    "ExecuteTime": {
     "end_time": "2023-08-23T13:10:22.166239400Z",
     "start_time": "2023-08-23T13:10:08.419838900Z"
    }
   }
  },
  {
   "cell_type": "markdown",
   "source": [
    "### Make frames from video people_walking_on_street.mp4"
   ],
   "metadata": {
    "collapsed": false
   }
  },
  {
   "cell_type": "code",
   "execution_count": 43,
   "outputs": [],
   "source": [
    "#make frames from people_from_above.mp4 video\n",
    "make_frames_from_video(file_name=\"people_walking_on_street.mp4\", output_dir=\"people_walking_on_street_frames\")"
   ],
   "metadata": {
    "collapsed": false,
    "ExecuteTime": {
     "end_time": "2023-08-23T13:13:16.421543600Z",
     "start_time": "2023-08-23T13:12:55.345449600Z"
    }
   }
  },
  {
   "cell_type": "markdown",
   "source": [
    "## Photos from Open Image Dataset"
   ],
   "metadata": {
    "collapsed": false
   }
  },
  {
   "cell_type": "markdown",
   "source": [
    "### Select only necessary images with people from Open Image Dataset (19 images)"
   ],
   "metadata": {
    "collapsed": false
   }
  },
  {
   "cell_type": "code",
   "execution_count": null,
   "outputs": [],
   "source": [
    "# Download special images from OID using downloader (files to be downloaded are in the image_lists.txt)\n",
    "!python downloader.py image_lists/image_lists.txt --download_folder=datasets/images --num_processes=5"
   ],
   "metadata": {
    "collapsed": false
   }
  },
  {
   "cell_type": "markdown",
   "source": [
    "### Download annotations for OID and read it in the pandas Dataframe"
   ],
   "metadata": {
    "collapsed": false
   }
  },
  {
   "cell_type": "code",
   "execution_count": 7,
   "outputs": [],
   "source": [
    "data = pd.read_csv(\"oidv6-train-annotations-bbox.csv\")"
   ],
   "metadata": {
    "collapsed": false,
    "ExecuteTime": {
     "end_time": "2023-08-22T06:49:52.973586700Z",
     "start_time": "2023-08-22T06:49:24.416184500Z"
    }
   }
  },
  {
   "cell_type": "code",
   "execution_count": 8,
   "outputs": [
    {
     "data": {
      "text/plain": "                   ImageID  Source  LabelName  Confidence      XMin      XMax  \\\n0         000002b66c9c498e  xclick  /m/01g317           1  0.012500  0.195312   \n1         000002b66c9c498e  xclick  /m/01g317           1  0.025000  0.276563   \n2         000002b66c9c498e  xclick  /m/01g317           1  0.151562  0.310937   \n3         000002b66c9c498e  xclick  /m/01g317           1  0.256250  0.429688   \n4         000002b66c9c498e  xclick  /m/01g317           1  0.257812  0.346875   \n...                    ...     ...        ...         ...       ...       ...   \n14610224  fffffdaec951185d  xclick   /m/0dzct           1  0.445625  0.672500   \n14610225  fffffdaec951185d  xclick   /m/0dzct           1  0.695625  0.786250   \n14610226  fffffdaec951185d  xclick   /m/0dzct           1  0.788750  0.835000   \n14610227  fffffdaec951185d  xclick   /m/0dzct           1  0.796875  0.951875   \n14610228  fffffdaec951185d  xclick   /m/0dzct           1  0.991250  0.999375   \n\n              YMin      YMax  IsOccluded  IsTruncated  ...  IsDepiction  \\\n0         0.148438  0.587500           0            1  ...            0   \n1         0.714063  0.948438           0            1  ...            0   \n2         0.198437  0.590625           1            0  ...            0   \n3         0.651563  0.925000           1            0  ...            0   \n4         0.235938  0.385938           1            0  ...            0   \n...            ...       ...         ...          ...  ...          ...   \n14610224  0.154784  0.200750           1            0  ...            0   \n14610225  0.118199  0.297373           0            0  ...            0   \n14610226  0.198874  0.272045           1            0  ...            0   \n14610227  0.156660  0.205441           1            0  ...            0   \n14610228  0.174484  0.195122           1            0  ...            0   \n\n          IsInside  XClick1X  XClick2X  XClick3X  XClick4X  XClick1Y  \\\n0                0  0.148438  0.012500  0.059375  0.195312  0.148438   \n1                0  0.025000  0.248438  0.276563  0.214062  0.914062   \n2                0  0.243750  0.151562  0.310937  0.262500  0.198437   \n3                0  0.315625  0.429688  0.256250  0.423438  0.651563   \n4                0  0.317188  0.257812  0.346875  0.307812  0.235938   \n...            ...       ...       ...       ...       ...       ...   \n14610224         0  0.510000  0.445625  0.538125  0.672500  0.154784   \n14610225         0  0.725000  0.748125  0.695625  0.786250  0.118199   \n14610226         0  0.814375  0.814375  0.788750  0.835000  0.198874   \n14610227         0  0.868750  0.796875  0.951875  0.942500  0.156660   \n14610228         0  0.995625  0.991250  0.993750  0.999375  0.174484   \n\n          XClick2Y  XClick3Y  XClick4Y  \n0         0.357812  0.587500  0.325000  \n1         0.714063  0.782813  0.948438  \n2         0.434375  0.507812  0.590625  \n3         0.921875  0.826562  0.925000  \n4         0.289062  0.348438  0.385938  \n...            ...       ...       ...  \n14610224  0.168856  0.200750  0.176360  \n14610225  0.297373  0.233583  0.207317  \n14610226  0.272045  0.245779  0.247655  \n14610227  0.176360  0.189493  0.205441  \n14610228  0.185741  0.195122  0.181989  \n\n[14610229 rows x 21 columns]",
      "text/html": "<div>\n<style scoped>\n    .dataframe tbody tr th:only-of-type {\n        vertical-align: middle;\n    }\n\n    .dataframe tbody tr th {\n        vertical-align: top;\n    }\n\n    .dataframe thead th {\n        text-align: right;\n    }\n</style>\n<table border=\"1\" class=\"dataframe\">\n  <thead>\n    <tr style=\"text-align: right;\">\n      <th></th>\n      <th>ImageID</th>\n      <th>Source</th>\n      <th>LabelName</th>\n      <th>Confidence</th>\n      <th>XMin</th>\n      <th>XMax</th>\n      <th>YMin</th>\n      <th>YMax</th>\n      <th>IsOccluded</th>\n      <th>IsTruncated</th>\n      <th>...</th>\n      <th>IsDepiction</th>\n      <th>IsInside</th>\n      <th>XClick1X</th>\n      <th>XClick2X</th>\n      <th>XClick3X</th>\n      <th>XClick4X</th>\n      <th>XClick1Y</th>\n      <th>XClick2Y</th>\n      <th>XClick3Y</th>\n      <th>XClick4Y</th>\n    </tr>\n  </thead>\n  <tbody>\n    <tr>\n      <th>0</th>\n      <td>000002b66c9c498e</td>\n      <td>xclick</td>\n      <td>/m/01g317</td>\n      <td>1</td>\n      <td>0.012500</td>\n      <td>0.195312</td>\n      <td>0.148438</td>\n      <td>0.587500</td>\n      <td>0</td>\n      <td>1</td>\n      <td>...</td>\n      <td>0</td>\n      <td>0</td>\n      <td>0.148438</td>\n      <td>0.012500</td>\n      <td>0.059375</td>\n      <td>0.195312</td>\n      <td>0.148438</td>\n      <td>0.357812</td>\n      <td>0.587500</td>\n      <td>0.325000</td>\n    </tr>\n    <tr>\n      <th>1</th>\n      <td>000002b66c9c498e</td>\n      <td>xclick</td>\n      <td>/m/01g317</td>\n      <td>1</td>\n      <td>0.025000</td>\n      <td>0.276563</td>\n      <td>0.714063</td>\n      <td>0.948438</td>\n      <td>0</td>\n      <td>1</td>\n      <td>...</td>\n      <td>0</td>\n      <td>0</td>\n      <td>0.025000</td>\n      <td>0.248438</td>\n      <td>0.276563</td>\n      <td>0.214062</td>\n      <td>0.914062</td>\n      <td>0.714063</td>\n      <td>0.782813</td>\n      <td>0.948438</td>\n    </tr>\n    <tr>\n      <th>2</th>\n      <td>000002b66c9c498e</td>\n      <td>xclick</td>\n      <td>/m/01g317</td>\n      <td>1</td>\n      <td>0.151562</td>\n      <td>0.310937</td>\n      <td>0.198437</td>\n      <td>0.590625</td>\n      <td>1</td>\n      <td>0</td>\n      <td>...</td>\n      <td>0</td>\n      <td>0</td>\n      <td>0.243750</td>\n      <td>0.151562</td>\n      <td>0.310937</td>\n      <td>0.262500</td>\n      <td>0.198437</td>\n      <td>0.434375</td>\n      <td>0.507812</td>\n      <td>0.590625</td>\n    </tr>\n    <tr>\n      <th>3</th>\n      <td>000002b66c9c498e</td>\n      <td>xclick</td>\n      <td>/m/01g317</td>\n      <td>1</td>\n      <td>0.256250</td>\n      <td>0.429688</td>\n      <td>0.651563</td>\n      <td>0.925000</td>\n      <td>1</td>\n      <td>0</td>\n      <td>...</td>\n      <td>0</td>\n      <td>0</td>\n      <td>0.315625</td>\n      <td>0.429688</td>\n      <td>0.256250</td>\n      <td>0.423438</td>\n      <td>0.651563</td>\n      <td>0.921875</td>\n      <td>0.826562</td>\n      <td>0.925000</td>\n    </tr>\n    <tr>\n      <th>4</th>\n      <td>000002b66c9c498e</td>\n      <td>xclick</td>\n      <td>/m/01g317</td>\n      <td>1</td>\n      <td>0.257812</td>\n      <td>0.346875</td>\n      <td>0.235938</td>\n      <td>0.385938</td>\n      <td>1</td>\n      <td>0</td>\n      <td>...</td>\n      <td>0</td>\n      <td>0</td>\n      <td>0.317188</td>\n      <td>0.257812</td>\n      <td>0.346875</td>\n      <td>0.307812</td>\n      <td>0.235938</td>\n      <td>0.289062</td>\n      <td>0.348438</td>\n      <td>0.385938</td>\n    </tr>\n    <tr>\n      <th>...</th>\n      <td>...</td>\n      <td>...</td>\n      <td>...</td>\n      <td>...</td>\n      <td>...</td>\n      <td>...</td>\n      <td>...</td>\n      <td>...</td>\n      <td>...</td>\n      <td>...</td>\n      <td>...</td>\n      <td>...</td>\n      <td>...</td>\n      <td>...</td>\n      <td>...</td>\n      <td>...</td>\n      <td>...</td>\n      <td>...</td>\n      <td>...</td>\n      <td>...</td>\n      <td>...</td>\n    </tr>\n    <tr>\n      <th>14610224</th>\n      <td>fffffdaec951185d</td>\n      <td>xclick</td>\n      <td>/m/0dzct</td>\n      <td>1</td>\n      <td>0.445625</td>\n      <td>0.672500</td>\n      <td>0.154784</td>\n      <td>0.200750</td>\n      <td>1</td>\n      <td>0</td>\n      <td>...</td>\n      <td>0</td>\n      <td>0</td>\n      <td>0.510000</td>\n      <td>0.445625</td>\n      <td>0.538125</td>\n      <td>0.672500</td>\n      <td>0.154784</td>\n      <td>0.168856</td>\n      <td>0.200750</td>\n      <td>0.176360</td>\n    </tr>\n    <tr>\n      <th>14610225</th>\n      <td>fffffdaec951185d</td>\n      <td>xclick</td>\n      <td>/m/0dzct</td>\n      <td>1</td>\n      <td>0.695625</td>\n      <td>0.786250</td>\n      <td>0.118199</td>\n      <td>0.297373</td>\n      <td>0</td>\n      <td>0</td>\n      <td>...</td>\n      <td>0</td>\n      <td>0</td>\n      <td>0.725000</td>\n      <td>0.748125</td>\n      <td>0.695625</td>\n      <td>0.786250</td>\n      <td>0.118199</td>\n      <td>0.297373</td>\n      <td>0.233583</td>\n      <td>0.207317</td>\n    </tr>\n    <tr>\n      <th>14610226</th>\n      <td>fffffdaec951185d</td>\n      <td>xclick</td>\n      <td>/m/0dzct</td>\n      <td>1</td>\n      <td>0.788750</td>\n      <td>0.835000</td>\n      <td>0.198874</td>\n      <td>0.272045</td>\n      <td>1</td>\n      <td>0</td>\n      <td>...</td>\n      <td>0</td>\n      <td>0</td>\n      <td>0.814375</td>\n      <td>0.814375</td>\n      <td>0.788750</td>\n      <td>0.835000</td>\n      <td>0.198874</td>\n      <td>0.272045</td>\n      <td>0.245779</td>\n      <td>0.247655</td>\n    </tr>\n    <tr>\n      <th>14610227</th>\n      <td>fffffdaec951185d</td>\n      <td>xclick</td>\n      <td>/m/0dzct</td>\n      <td>1</td>\n      <td>0.796875</td>\n      <td>0.951875</td>\n      <td>0.156660</td>\n      <td>0.205441</td>\n      <td>1</td>\n      <td>0</td>\n      <td>...</td>\n      <td>0</td>\n      <td>0</td>\n      <td>0.868750</td>\n      <td>0.796875</td>\n      <td>0.951875</td>\n      <td>0.942500</td>\n      <td>0.156660</td>\n      <td>0.176360</td>\n      <td>0.189493</td>\n      <td>0.205441</td>\n    </tr>\n    <tr>\n      <th>14610228</th>\n      <td>fffffdaec951185d</td>\n      <td>xclick</td>\n      <td>/m/0dzct</td>\n      <td>1</td>\n      <td>0.991250</td>\n      <td>0.999375</td>\n      <td>0.174484</td>\n      <td>0.195122</td>\n      <td>1</td>\n      <td>0</td>\n      <td>...</td>\n      <td>0</td>\n      <td>0</td>\n      <td>0.995625</td>\n      <td>0.991250</td>\n      <td>0.993750</td>\n      <td>0.999375</td>\n      <td>0.174484</td>\n      <td>0.185741</td>\n      <td>0.195122</td>\n      <td>0.181989</td>\n    </tr>\n  </tbody>\n</table>\n<p>14610229 rows × 21 columns</p>\n</div>"
     },
     "execution_count": 8,
     "metadata": {},
     "output_type": "execute_result"
    }
   ],
   "source": [
    "data"
   ],
   "metadata": {
    "collapsed": false,
    "ExecuteTime": {
     "end_time": "2023-08-22T06:51:51.999832700Z",
     "start_time": "2023-08-22T06:51:48.249078300Z"
    }
   }
  },
  {
   "cell_type": "code",
   "execution_count": 9,
   "outputs": [],
   "source": [
    "#Convert annotations to YOLO format: c_x, c_y, width, height\n",
    "data['center_x']=(data['XMin']+data['XMax'])/2\n",
    "data['center_y']=(data['YMin']+data['YMax'])/2\n",
    "data['width'] = data['XMax']-data['XMin']\n",
    "data['height'] = data['YMax']-data['YMin']"
   ],
   "metadata": {
    "collapsed": false,
    "ExecuteTime": {
     "end_time": "2023-08-22T06:56:28.353063100Z",
     "start_time": "2023-08-22T06:56:27.991009600Z"
    }
   }
  },
  {
   "cell_type": "code",
   "execution_count": 10,
   "outputs": [
    {
     "data": {
      "text/plain": "                   ImageID  Source  LabelName  Confidence      XMin      XMax  \\\n0         000002b66c9c498e  xclick  /m/01g317           1  0.012500  0.195312   \n1         000002b66c9c498e  xclick  /m/01g317           1  0.025000  0.276563   \n2         000002b66c9c498e  xclick  /m/01g317           1  0.151562  0.310937   \n3         000002b66c9c498e  xclick  /m/01g317           1  0.256250  0.429688   \n4         000002b66c9c498e  xclick  /m/01g317           1  0.257812  0.346875   \n...                    ...     ...        ...         ...       ...       ...   \n14610224  fffffdaec951185d  xclick   /m/0dzct           1  0.445625  0.672500   \n14610225  fffffdaec951185d  xclick   /m/0dzct           1  0.695625  0.786250   \n14610226  fffffdaec951185d  xclick   /m/0dzct           1  0.788750  0.835000   \n14610227  fffffdaec951185d  xclick   /m/0dzct           1  0.796875  0.951875   \n14610228  fffffdaec951185d  xclick   /m/0dzct           1  0.991250  0.999375   \n\n              YMin      YMax  IsOccluded  IsTruncated  ...  XClick3X  \\\n0         0.148438  0.587500           0            1  ...  0.059375   \n1         0.714063  0.948438           0            1  ...  0.276563   \n2         0.198437  0.590625           1            0  ...  0.310937   \n3         0.651563  0.925000           1            0  ...  0.256250   \n4         0.235938  0.385938           1            0  ...  0.346875   \n...            ...       ...         ...          ...  ...       ...   \n14610224  0.154784  0.200750           1            0  ...  0.538125   \n14610225  0.118199  0.297373           0            0  ...  0.695625   \n14610226  0.198874  0.272045           1            0  ...  0.788750   \n14610227  0.156660  0.205441           1            0  ...  0.951875   \n14610228  0.174484  0.195122           1            0  ...  0.993750   \n\n          XClick4X  XClick1Y  XClick2Y  XClick3Y  XClick4Y  center_x  \\\n0         0.195312  0.148438  0.357812  0.587500  0.325000  0.103906   \n1         0.214062  0.914062  0.714063  0.782813  0.948438  0.150782   \n2         0.262500  0.198437  0.434375  0.507812  0.590625  0.231249   \n3         0.423438  0.651563  0.921875  0.826562  0.925000  0.342969   \n4         0.307812  0.235938  0.289062  0.348438  0.385938  0.302343   \n...            ...       ...       ...       ...       ...       ...   \n14610224  0.672500  0.154784  0.168856  0.200750  0.176360  0.559063   \n14610225  0.786250  0.118199  0.297373  0.233583  0.207317  0.740938   \n14610226  0.835000  0.198874  0.272045  0.245779  0.247655  0.811875   \n14610227  0.942500  0.156660  0.176360  0.189493  0.205441  0.874375   \n14610228  0.999375  0.174484  0.185741  0.195122  0.181989  0.995313   \n\n          center_y     width    height  \n0         0.367969  0.182812  0.439062  \n1         0.831251  0.251563  0.234375  \n2         0.394531  0.159375  0.392188  \n3         0.788282  0.173438  0.273437  \n4         0.310938  0.089063  0.150000  \n...            ...       ...       ...  \n14610224  0.177767  0.226875  0.045966  \n14610225  0.207786  0.090625  0.179174  \n14610226  0.235459  0.046250  0.073171  \n14610227  0.181051  0.155000  0.048781  \n14610228  0.184803  0.008125  0.020638  \n\n[14610229 rows x 25 columns]",
      "text/html": "<div>\n<style scoped>\n    .dataframe tbody tr th:only-of-type {\n        vertical-align: middle;\n    }\n\n    .dataframe tbody tr th {\n        vertical-align: top;\n    }\n\n    .dataframe thead th {\n        text-align: right;\n    }\n</style>\n<table border=\"1\" class=\"dataframe\">\n  <thead>\n    <tr style=\"text-align: right;\">\n      <th></th>\n      <th>ImageID</th>\n      <th>Source</th>\n      <th>LabelName</th>\n      <th>Confidence</th>\n      <th>XMin</th>\n      <th>XMax</th>\n      <th>YMin</th>\n      <th>YMax</th>\n      <th>IsOccluded</th>\n      <th>IsTruncated</th>\n      <th>...</th>\n      <th>XClick3X</th>\n      <th>XClick4X</th>\n      <th>XClick1Y</th>\n      <th>XClick2Y</th>\n      <th>XClick3Y</th>\n      <th>XClick4Y</th>\n      <th>center_x</th>\n      <th>center_y</th>\n      <th>width</th>\n      <th>height</th>\n    </tr>\n  </thead>\n  <tbody>\n    <tr>\n      <th>0</th>\n      <td>000002b66c9c498e</td>\n      <td>xclick</td>\n      <td>/m/01g317</td>\n      <td>1</td>\n      <td>0.012500</td>\n      <td>0.195312</td>\n      <td>0.148438</td>\n      <td>0.587500</td>\n      <td>0</td>\n      <td>1</td>\n      <td>...</td>\n      <td>0.059375</td>\n      <td>0.195312</td>\n      <td>0.148438</td>\n      <td>0.357812</td>\n      <td>0.587500</td>\n      <td>0.325000</td>\n      <td>0.103906</td>\n      <td>0.367969</td>\n      <td>0.182812</td>\n      <td>0.439062</td>\n    </tr>\n    <tr>\n      <th>1</th>\n      <td>000002b66c9c498e</td>\n      <td>xclick</td>\n      <td>/m/01g317</td>\n      <td>1</td>\n      <td>0.025000</td>\n      <td>0.276563</td>\n      <td>0.714063</td>\n      <td>0.948438</td>\n      <td>0</td>\n      <td>1</td>\n      <td>...</td>\n      <td>0.276563</td>\n      <td>0.214062</td>\n      <td>0.914062</td>\n      <td>0.714063</td>\n      <td>0.782813</td>\n      <td>0.948438</td>\n      <td>0.150782</td>\n      <td>0.831251</td>\n      <td>0.251563</td>\n      <td>0.234375</td>\n    </tr>\n    <tr>\n      <th>2</th>\n      <td>000002b66c9c498e</td>\n      <td>xclick</td>\n      <td>/m/01g317</td>\n      <td>1</td>\n      <td>0.151562</td>\n      <td>0.310937</td>\n      <td>0.198437</td>\n      <td>0.590625</td>\n      <td>1</td>\n      <td>0</td>\n      <td>...</td>\n      <td>0.310937</td>\n      <td>0.262500</td>\n      <td>0.198437</td>\n      <td>0.434375</td>\n      <td>0.507812</td>\n      <td>0.590625</td>\n      <td>0.231249</td>\n      <td>0.394531</td>\n      <td>0.159375</td>\n      <td>0.392188</td>\n    </tr>\n    <tr>\n      <th>3</th>\n      <td>000002b66c9c498e</td>\n      <td>xclick</td>\n      <td>/m/01g317</td>\n      <td>1</td>\n      <td>0.256250</td>\n      <td>0.429688</td>\n      <td>0.651563</td>\n      <td>0.925000</td>\n      <td>1</td>\n      <td>0</td>\n      <td>...</td>\n      <td>0.256250</td>\n      <td>0.423438</td>\n      <td>0.651563</td>\n      <td>0.921875</td>\n      <td>0.826562</td>\n      <td>0.925000</td>\n      <td>0.342969</td>\n      <td>0.788282</td>\n      <td>0.173438</td>\n      <td>0.273437</td>\n    </tr>\n    <tr>\n      <th>4</th>\n      <td>000002b66c9c498e</td>\n      <td>xclick</td>\n      <td>/m/01g317</td>\n      <td>1</td>\n      <td>0.257812</td>\n      <td>0.346875</td>\n      <td>0.235938</td>\n      <td>0.385938</td>\n      <td>1</td>\n      <td>0</td>\n      <td>...</td>\n      <td>0.346875</td>\n      <td>0.307812</td>\n      <td>0.235938</td>\n      <td>0.289062</td>\n      <td>0.348438</td>\n      <td>0.385938</td>\n      <td>0.302343</td>\n      <td>0.310938</td>\n      <td>0.089063</td>\n      <td>0.150000</td>\n    </tr>\n    <tr>\n      <th>...</th>\n      <td>...</td>\n      <td>...</td>\n      <td>...</td>\n      <td>...</td>\n      <td>...</td>\n      <td>...</td>\n      <td>...</td>\n      <td>...</td>\n      <td>...</td>\n      <td>...</td>\n      <td>...</td>\n      <td>...</td>\n      <td>...</td>\n      <td>...</td>\n      <td>...</td>\n      <td>...</td>\n      <td>...</td>\n      <td>...</td>\n      <td>...</td>\n      <td>...</td>\n      <td>...</td>\n    </tr>\n    <tr>\n      <th>14610224</th>\n      <td>fffffdaec951185d</td>\n      <td>xclick</td>\n      <td>/m/0dzct</td>\n      <td>1</td>\n      <td>0.445625</td>\n      <td>0.672500</td>\n      <td>0.154784</td>\n      <td>0.200750</td>\n      <td>1</td>\n      <td>0</td>\n      <td>...</td>\n      <td>0.538125</td>\n      <td>0.672500</td>\n      <td>0.154784</td>\n      <td>0.168856</td>\n      <td>0.200750</td>\n      <td>0.176360</td>\n      <td>0.559063</td>\n      <td>0.177767</td>\n      <td>0.226875</td>\n      <td>0.045966</td>\n    </tr>\n    <tr>\n      <th>14610225</th>\n      <td>fffffdaec951185d</td>\n      <td>xclick</td>\n      <td>/m/0dzct</td>\n      <td>1</td>\n      <td>0.695625</td>\n      <td>0.786250</td>\n      <td>0.118199</td>\n      <td>0.297373</td>\n      <td>0</td>\n      <td>0</td>\n      <td>...</td>\n      <td>0.695625</td>\n      <td>0.786250</td>\n      <td>0.118199</td>\n      <td>0.297373</td>\n      <td>0.233583</td>\n      <td>0.207317</td>\n      <td>0.740938</td>\n      <td>0.207786</td>\n      <td>0.090625</td>\n      <td>0.179174</td>\n    </tr>\n    <tr>\n      <th>14610226</th>\n      <td>fffffdaec951185d</td>\n      <td>xclick</td>\n      <td>/m/0dzct</td>\n      <td>1</td>\n      <td>0.788750</td>\n      <td>0.835000</td>\n      <td>0.198874</td>\n      <td>0.272045</td>\n      <td>1</td>\n      <td>0</td>\n      <td>...</td>\n      <td>0.788750</td>\n      <td>0.835000</td>\n      <td>0.198874</td>\n      <td>0.272045</td>\n      <td>0.245779</td>\n      <td>0.247655</td>\n      <td>0.811875</td>\n      <td>0.235459</td>\n      <td>0.046250</td>\n      <td>0.073171</td>\n    </tr>\n    <tr>\n      <th>14610227</th>\n      <td>fffffdaec951185d</td>\n      <td>xclick</td>\n      <td>/m/0dzct</td>\n      <td>1</td>\n      <td>0.796875</td>\n      <td>0.951875</td>\n      <td>0.156660</td>\n      <td>0.205441</td>\n      <td>1</td>\n      <td>0</td>\n      <td>...</td>\n      <td>0.951875</td>\n      <td>0.942500</td>\n      <td>0.156660</td>\n      <td>0.176360</td>\n      <td>0.189493</td>\n      <td>0.205441</td>\n      <td>0.874375</td>\n      <td>0.181051</td>\n      <td>0.155000</td>\n      <td>0.048781</td>\n    </tr>\n    <tr>\n      <th>14610228</th>\n      <td>fffffdaec951185d</td>\n      <td>xclick</td>\n      <td>/m/0dzct</td>\n      <td>1</td>\n      <td>0.991250</td>\n      <td>0.999375</td>\n      <td>0.174484</td>\n      <td>0.195122</td>\n      <td>1</td>\n      <td>0</td>\n      <td>...</td>\n      <td>0.993750</td>\n      <td>0.999375</td>\n      <td>0.174484</td>\n      <td>0.185741</td>\n      <td>0.195122</td>\n      <td>0.181989</td>\n      <td>0.995313</td>\n      <td>0.184803</td>\n      <td>0.008125</td>\n      <td>0.020638</td>\n    </tr>\n  </tbody>\n</table>\n<p>14610229 rows × 25 columns</p>\n</div>"
     },
     "execution_count": 10,
     "metadata": {},
     "output_type": "execute_result"
    }
   ],
   "source": [
    "data"
   ],
   "metadata": {
    "collapsed": false,
    "ExecuteTime": {
     "end_time": "2023-08-22T06:56:34.611330700Z",
     "start_time": "2023-08-22T06:56:31.305226300Z"
    }
   }
  },
  {
   "cell_type": "markdown",
   "source": [
    "### Make annotations for files in image_lists"
   ],
   "metadata": {
    "collapsed": false
   }
  },
  {
   "cell_type": "code",
   "execution_count": 18,
   "outputs": [],
   "source": [
    "files = os.listdir(\"dataset/images/\")\n",
    "\n",
    "for file_name in files:\n",
    "    file_id = file_name.split(\".\")[0]\n",
    "    rows = data[data['ImageID']==file_id]\n",
    "    with open(f\"dataset/labels/{file_id}.txt\", \"w\") as f:\n",
    "        for i, row in rows.iterrows():\n",
    "            f.write(\"0\"+ \" \"+str(row['center_x'])+\" \"+str(row['center_y'])+\" \"+str(row['width'])+\" \"+str(row['height'])+\"\\n\")\n"
   ],
   "metadata": {
    "collapsed": false,
    "ExecuteTime": {
     "end_time": "2023-08-22T07:07:01.481879800Z",
     "start_time": "2023-08-22T07:06:48.695526600Z"
    }
   }
  },
  {
   "cell_type": "markdown",
   "source": [
    "### Add my own annotations for people.mp4 frames and from people_from_above.mp4 frames"
   ],
   "metadata": {
    "collapsed": false
   }
  },
  {
   "cell_type": "markdown",
   "source": [
    "### Add annotations and images from People.mp4 frames (annotations vere made by CVAT)"
   ],
   "metadata": {
    "collapsed": false
   }
  },
  {
   "cell_type": "code",
   "execution_count": 45,
   "outputs": [],
   "source": [
    "def add_annotations(annotation_folder, image_folder, destination_folder):\n",
    "    files = os.listdir(annotation_folder)\n",
    "\n",
    "    for file_name in files:\n",
    "        with open(f\"{annotation_folder}/{file_name}\", \"r\") as f:\n",
    "            lines = f.readlines()\n",
    "            if len(lines)>0: #if there is annotation for this file - copy it and annotations to the datasets dir\n",
    "                shutil.copy(f\"{annotation_folder}/{file_name}\", f\"{destination_folder}/labels/{file_name}\")\n",
    "                name = file_name.split(\".\")[0]\n",
    "                shutil.copy(f\"{image_folder}/{name}.jpg\", f\"{destination_folder}/images/{name}.jpg\")"
   ],
   "metadata": {
    "collapsed": false,
    "ExecuteTime": {
     "end_time": "2023-08-23T13:15:37.699104700Z",
     "start_time": "2023-08-23T13:15:37.681916500Z"
    }
   }
  },
  {
   "cell_type": "code",
   "execution_count": 48,
   "outputs": [],
   "source": [
    "# files = os.listdir(\"people_from_above/obj_train_data\")\n",
    "# i=0\n",
    "# for file_name in files:\n",
    "#     i+=1\n",
    "#     os.rename(f\"people_from_above/obj_train_data/{file_name}\", f\"people_from_above/obj_train_data/people_from_above_frames_{i}\")"
   ],
   "metadata": {
    "collapsed": false,
    "ExecuteTime": {
     "end_time": "2023-08-23T13:20:13.670494500Z",
     "start_time": "2023-08-23T13:20:13.553627500Z"
    }
   }
  },
  {
   "cell_type": "code",
   "execution_count": 49,
   "outputs": [],
   "source": [
    "#add annotations from people folder (65 images)\n",
    "add_annotations(\"people/obj_train_data\", \"people_frames\", \"datasets\")"
   ],
   "metadata": {
    "collapsed": false,
    "ExecuteTime": {
     "end_time": "2023-08-23T13:20:55.495736800Z",
     "start_time": "2023-08-23T13:20:54.883365700Z"
    }
   }
  },
  {
   "cell_type": "code",
   "execution_count": 50,
   "outputs": [],
   "source": [
    "#add annotations from people_from_above folder\n",
    "add_annotations(\"people_from_above/obj_train_data\", \"people_from_above_frames\", \"datasets\")"
   ],
   "metadata": {
    "collapsed": false,
    "ExecuteTime": {
     "end_time": "2023-08-23T13:20:56.382815800Z",
     "start_time": "2023-08-23T13:20:56.281870300Z"
    }
   }
  },
  {
   "cell_type": "code",
   "execution_count": 51,
   "outputs": [],
   "source": [
    "#add annotations from people_walking_on_street folder\n",
    "add_annotations(\"people_walking_on_street/obj_train_data\", \"people_walking_on_street_frames\", \"datasets\")"
   ],
   "metadata": {
    "collapsed": false,
    "ExecuteTime": {
     "end_time": "2023-08-23T13:29:46.082622500Z",
     "start_time": "2023-08-23T13:29:45.866077Z"
    }
   }
  },
  {
   "cell_type": "markdown",
   "source": [
    "### Show results after training YOLOv8"
   ],
   "metadata": {
    "collapsed": false
   }
  },
  {
   "cell_type": "code",
   "execution_count": 16,
   "outputs": [],
   "source": [
    "results = pd.read_csv(\"ultralytics/runs/detect/train2/results.csv\")"
   ],
   "metadata": {
    "collapsed": false,
    "ExecuteTime": {
     "end_time": "2023-08-23T09:53:56.156009Z",
     "start_time": "2023-08-23T09:53:56.125053Z"
    }
   }
  },
  {
   "cell_type": "code",
   "execution_count": 28,
   "outputs": [],
   "source": [
    "results.columns = [column.strip() for column in results.columns]"
   ],
   "metadata": {
    "collapsed": false,
    "ExecuteTime": {
     "end_time": "2023-08-23T09:56:08.209306900Z",
     "start_time": "2023-08-23T09:56:08.199666800Z"
    }
   }
  },
  {
   "cell_type": "code",
   "execution_count": 35,
   "outputs": [
    {
     "data": {
      "text/plain": "<Figure size 900x700 with 2 Axes>",
      "image/png": "[encoded data removed]"
     },
     "metadata": {},
     "output_type": "display_data"
    }
   ],
   "source": [
    "plt.figure(figsize=(9,7))\n",
    "plt.subplot(2,1,1)\n",
    "plt.plot(results.index, results['train/box_loss'], label=\"train\")\n",
    "plt.plot(results.index, results['val/box_loss'], label=\"val\")\n",
    "plt.title(\"Bbox loss\")\n",
    "plt.legend(loc=\"upper right\")\n",
    "plt.subplot(2,1,2)\n",
    "plt.plot(results['epoch'], results['train/cls_loss'], label=\"train\")\n",
    "plt.plot(results['epoch'], results['val/cls_loss'], label=\"val\")\n",
    "plt.title(\"Classification loss\")\n",
    "plt.legend(loc=\"upper right\")\n",
    "plt.tight_layout\n",
    "plt.show()"
   ],
   "metadata": {
    "collapsed": false,
    "ExecuteTime": {
     "end_time": "2023-08-23T09:57:13.782875500Z",
     "start_time": "2023-08-23T09:57:13.550707200Z"
    }
   }
  },
  {
   "cell_type": "code",
   "execution_count": null,
   "outputs": [],
   "source": [],
   "metadata": {
    "collapsed": false
   }
  }
 ],
 "metadata": {
  "kernelspec": {
   "display_name": "Python 3",
   "language": "python",
   "name": "python3"
  },
  "language_info": {
   "codemirror_mode": {
    "name": "ipython",
    "version": 2
   },
   "file_extension": ".py",
   "mimetype": "text/x-python",
   "name": "python",
   "nbconvert_exporter": "python",
   "pygments_lexer": "ipython2",
   "version": "2.7.6"
  }
 },
 "nbformat": 4,
 "nbformat_minor": 0
}
